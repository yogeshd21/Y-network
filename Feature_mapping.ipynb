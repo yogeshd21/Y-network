{
 "cells": [
  {
   "cell_type": "code",
   "execution_count": null,
   "metadata": {
    "id": "Rx5qFuXxJqAa"
   },
   "outputs": [],
   "source": [
    "import numpy as np\n",
    "import pandas as pd\n",
    "from tensorflow.keras.layers import Dense, Dropout, Input\n",
    "from tensorflow.keras.layers import Conv2D, MaxPooling2D\n",
    "from tensorflow.keras.layers import Flatten, concatenate\n",
    "from tensorflow.keras.models import Model\n",
    "from tensorflow.keras.datasets import cifar10\n",
    "#from keras.datasets import cifar100 #Replace use\n",
    "from tensorflow.keras.utils import to_categorical\n",
    "from tensorflow.keras.preprocessing.image import ImageDataGenerator\n",
    "from tensorflow.keras.optimizers import SGD\n",
    "from tensorflow.keras.optimizers import Adam\n",
    "from tensorflow.keras.optimizers import RMSprop\n",
    "\n",
    "# load CIFAR dataset\n",
    "(x_train, y_train), (x_test, y_test) = cifar10.load_data()\n",
    "#(x_train, y_train), (x_test, y_test) = cifar100.load_data() #Replace use\n",
    "\n",
    "num_labels = len(np.unique(y_train))\n",
    "y_train = to_categorical(y_train)\n",
    "y_test = to_categorical(y_test)\n",
    "\n",
    "image_size = x_train.shape[1]\n",
    "x_train = np.reshape(x_train,[-1, image_size, image_size, 3])\n",
    "x_test = np.reshape(x_test,[-1, image_size, image_size, 3])\n",
    "x_train = x_train.astype('float32') / 255\n",
    "x_test = x_test.astype('float32') / 255\n",
    "\n",
    "def modl(noconvlyrs, dr, optm):\n",
    "    # left branch of Y network\n",
    "    left_inputs = Input(shape=(image_size, image_size, 3))\n",
    "    x = left_inputs\n",
    "    filters = 32\n",
    "    for i in range(noconvlyrs):\n",
    "        x = Conv2D(filters=filters, kernel_size=3, padding='same', activation='relu', dilation_rate=1)(x)\n",
    "        x = Dropout(dr)(x)\n",
    "        x = MaxPooling2D((2,2))(x)\n",
    "        filters *= 2\n",
    "\n",
    "    # right branch of Y network\n",
    "    right_inputs = Input(shape=(image_size, image_size, 3))\n",
    "    y = right_inputs\n",
    "    filters = 32\n",
    "    for i in range(noconvlyrs):\n",
    "        y = Conv2D(filters=filters, kernel_size=3, padding='same', activation='relu', dilation_rate=2)(y)\n",
    "        y = Dropout(dr)(y)\n",
    "        y = MaxPooling2D((2,2))(y)\n",
    "        filters *= 2\n",
    "\n",
    "    y = concatenate([x, y])\n",
    "    \n",
    "    y = Flatten()(y)\n",
    "    y = Dropout(dr)(y)\n",
    "    outputs = Dense(num_labels, activation='softmax')(y)\n",
    "\n",
    "    model = Model([left_inputs, right_inputs], outputs)\n",
    "\n",
    "    model.summary()\n",
    "\n",
    "    if optm == 'SGD':\n",
    "        opt = SGD(learning_rate=0.01, momentum=0.9)\n",
    "    elif optm == 'ADAM':\n",
    "        opt = Adam(learning_rate=0.01)\n",
    "    elif optm == 'RMSProp':\n",
    "        opt = RMSprop(learning_rate=0.01, momentum=0.9)\n",
    "\n",
    "    model.compile(loss='categorical_crossentropy', optimizer=opt, metrics=['accuracy'])\n",
    "    return model\n",
    "\n",
    "datagen = ImageDataGenerator(width_shift_range=0.1, height_shift_range=0.1, horizontal_flip=True)\n",
    "it_train = datagen.flow([x_train, x_train], y_train, batch_size=64)\n",
    "steps = int(x_train.shape[0] / 64)\n",
    "\n",
    "model = modl(3, 0.2, 'SGD')\n",
    "#model = modl(4, 0.2, 'SGD') #Replace model parameters as per the required architecture\n",
    "history = model.fit(it_train, steps_per_epoch=steps, epochs=10, validation_data=([x_test, x_test], y_test))\n",
    "\n",
    "score = model.evaluate([x_test, x_test], y_test, batch_size=64, verbose=0)\n",
    "print(\"\\nTest accuracy: %.1f%%\" % (100.0 * score[1]))"
   ]
  },
  {
   "cell_type": "code",
   "execution_count": null,
   "metadata": {
    "id": "GCcEf5W1hHZD"
   },
   "outputs": [],
   "source": [
    "from matplotlib import pyplot\n",
    "\n",
    "def observe_plot(history):\n",
    "\t# plot loss\n",
    "\tpyplot.subplot(211)\n",
    "\tpyplot.title('Categorical Cross Entropy Loss')\n",
    "\tpyplot.plot(history.history['loss'], color='blue', label='train')\n",
    "\tpyplot.plot(history.history['val_loss'], color='orange', label='test')\n",
    "\t# plot accuracy\n",
    "\tpyplot.subplot(212)\n",
    "\tpyplot.title('Classification Accuracy')\n",
    "\tpyplot.plot(history.history['accuracy'], color='blue', label='train')\n",
    "\tpyplot.plot(history.history['val_accuracy'], color='orange', label='test')\n",
    " \n",
    "observe_plot(history)"
   ]
  },
  {
   "cell_type": "markdown",
   "metadata": {
    "id": "QRdqPapdM6UB"
   },
   "source": [
    "## Feature Map Computation"
   ]
  },
  {
   "cell_type": "code",
   "execution_count": null,
   "metadata": {
    "id": "1sjzdff8M-dl"
   },
   "outputs": [],
   "source": [
    "import matplotlib.pyplot as plt\n",
    "\n",
    "print('Input image for feature map extraction is as follows:')\n",
    "pyplot.imshow(x_test[10])\n",
    "#pyplot.imshow(x_test[36]) #for CIFAR-100\n"
   ]
  },
  {
   "cell_type": "code",
   "execution_count": null,
   "metadata": {
    "id": "wpS-1zPW2nEf"
   },
   "outputs": [],
   "source": [
    "from keras.models import Model\n",
    "from matplotlib import pyplot\n",
    "from numpy import expand_dims\n",
    "\n",
    "lyrs = [2, 3, 8, 9, 14, 15]\n",
    "#lyrs = [2, 3, 8, 9, 14, 15, 20, 21] #for 4-pair conv layers\n",
    "outputs = [model.layers[i].output for i in lyrs]\n",
    "model = Model(inputs=model.inputs, outputs=outputs)\n",
    "\n",
    "ip_img = expand_dims(x_test[10], axis=0)\n",
    "feature_maps = model.predict([ip_img, ip_img])\n",
    "for fmap in feature_maps:\n",
    "\taxs = 1\n",
    "\tfor _ in range(3):\n",
    "\t\tfor _ in range(3):\n",
    "\t\t\tax = pyplot.subplot(3, 3, axs)\n",
    "\t\t\tax.set_xticks([])\n",
    "\t\t\tax.set_yticks([])\n",
    "\t\t\tpyplot.imshow(fmap[0, :, :, axs-1], cmap='gray')\n",
    "\t\t\taxs += 1\n",
    "\n",
    "\tpyplot.show()"
   ]
  }
 ],
 "metadata": {
  "accelerator": "GPU",
  "colab": {
   "authorship_tag": "ABX9TyP3QxWSdWULrEoitaTVa6+K",
   "collapsed_sections": [],
   "name": "DL Project1.ipynb",
   "provenance": []
  },
  "kernelspec": {
   "display_name": "Python 3 (ipykernel)",
   "language": "python",
   "name": "python3"
  },
  "language_info": {
   "codemirror_mode": {
    "name": "ipython",
    "version": 3
   },
   "file_extension": ".py",
   "mimetype": "text/x-python",
   "name": "python",
   "nbconvert_exporter": "python",
   "pygments_lexer": "ipython3",
   "version": "3.8.5"
  }
 },
 "nbformat": 4,
 "nbformat_minor": 1
}
